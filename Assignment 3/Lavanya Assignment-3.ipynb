{
  "cells": [
    {
      "cell_type": "markdown",
      "metadata": {
        "id": "fwU2iooz85jt"
      },
      "source": [
        "## Exercises\n",
        "\n",
        "Answer the questions or complete the tasks outlined in bold below, use the specific method described if applicable."
      ]
    },
    {
      "cell_type": "markdown",
      "metadata": {
        "id": "SzBQQ_ml85j1"
      },
      "source": [
        "** What is 7 to the power of 4?**"
      ]
    },
    {
      "cell_type": "code",
      "execution_count": 1,
      "metadata": {
        "id": "UhvE4PBC85j3",
        "outputId": "e3a53809-0ccc-42ed-f180-1b00add8ecfa",
        "colab": {
          "base_uri": "https://localhost:8080/"
        }
      },
      "outputs": [
        {
          "output_type": "stream",
          "name": "stdout",
          "text": [
            "2401\n"
          ]
        }
      ],
      "source": [
        "print(7 **4)"
      ]
    },
    {
      "cell_type": "markdown",
      "metadata": {
        "id": "ds8G9S8j85j6"
      },
      "source": [
        "** Split this string:**\n",
        "\n",
        "    s = \"Hi there Sam!\"\n",
        "    \n",
        "**into a list. **"
      ]
    },
    {
      "cell_type": "code",
      "execution_count": null,
      "metadata": {
        "collapsed": true,
        "id": "GD_Tls3H85j7",
        "colab": {
          "base_uri": "https://localhost:8080/"
        },
        "outputId": "543f2f80-ceab-4ec0-bee9-e9152056c700"
      },
      "outputs": [
        {
          "output_type": "stream",
          "name": "stdout",
          "text": [
            "['Hi', 'there', 'Sam!']\n"
          ]
        }
      ],
      "source": [
        "string = \"Hi there Sam!\"\n",
        "print(string.split())"
      ]
    },
    {
      "cell_type": "markdown",
      "metadata": {
        "id": "_bBNOu-785j9"
      },
      "source": [
        "** Given the variables:**\n",
        "\n",
        "    planet = \"Earth\"\n",
        "    diameter = 12742\n",
        "\n",
        "** Use .format() to print the following string: **\n",
        "\n",
        "    The diameter of Earth is 12742 kilometers."
      ]
    },
    {
      "cell_type": "code",
      "execution_count": null,
      "metadata": {
        "collapsed": true,
        "id": "2TrzmDcS85j-",
        "colab": {
          "base_uri": "https://localhost:8080/"
        },
        "outputId": "0e965b76-d563-4334-9f75-b21e21915efd"
      },
      "outputs": [
        {
          "output_type": "stream",
          "name": "stdout",
          "text": [
            "The diameter of Earth is 12742 kilometers.\n"
          ]
        }
      ],
      "source": [
        "planet = \"Earth\"\n",
        "diameter = 12742\n",
        "print(f\"The diameter of {planet} is {diameter} kilometers.\")"
      ]
    },
    {
      "cell_type": "markdown",
      "metadata": {
        "id": "QAKtN7Hh85kB"
      },
      "source": [
        "** Given this nested list, use indexing to grab the word \"hello\" **"
      ]
    },
    {
      "cell_type": "code",
      "execution_count": null,
      "metadata": {
        "collapsed": true,
        "id": "-7dzQDyK85kD"
      },
      "outputs": [],
      "source": [
        "lst = [1,2,[3,4],[5,[100,200,['hello']],23,11],1,7]"
      ]
    },
    {
      "cell_type": "code",
      "execution_count": null,
      "metadata": {
        "id": "6m5C0sTW85kE",
        "outputId": "b0e2ed21-d81b-4a7d-e7e0-f406ad05b33e",
        "colab": {
          "base_uri": "https://localhost:8080/"
        }
      },
      "outputs": [
        {
          "output_type": "stream",
          "name": "stdout",
          "text": [
            "hello\n"
          ]
        }
      ],
      "source": [
        "lst = [1,2,[3,4],[5,[100,200,['hello']],23,11],1,7]\n",
        "print(lst[3][1][2][0])"
      ]
    },
    {
      "cell_type": "markdown",
      "source": [],
      "metadata": {
        "id": "rSxEWL7D9kTD"
      }
    },
    {
      "cell_type": "markdown",
      "metadata": {
        "id": "9Ma7M4a185kF"
      },
      "source": [
        "** Given this nest dictionary grab the word \"hello\". Be prepared, this will be annoying/tricky **"
      ]
    },
    {
      "cell_type": "code",
      "execution_count": null,
      "metadata": {
        "id": "vrYAxSYN85kG",
        "colab": {
          "base_uri": "https://localhost:8080/"
        },
        "outputId": "dd654685-16ca-4945-ce72-b8669aab1618"
      },
      "outputs": [
        {
          "output_type": "stream",
          "name": "stdout",
          "text": [
            "hello\n"
          ]
        }
      ],
      "source": [
        "d = {'k1':[1,2,3,{'tricky':['oh','man','inception',{'target':[1,2,3,'hello']}]}]}\n",
        "print(d['k1'][3][\"tricky\"][3]['target'][3])"
      ]
    },
    {
      "cell_type": "markdown",
      "source": [
        "\n"
      ],
      "metadata": {
        "id": "FlILSdm485kH"
      }
    },
    {
      "cell_type": "markdown",
      "metadata": {
        "id": "FInV_FKB85kI"
      },
      "source": [
        "** What is the main difference between a tuple and a list? **"
      ]
    },
    {
      "cell_type": "code",
      "execution_count": null,
      "metadata": {
        "collapsed": true,
        "id": "_VBWf00q85kJ",
        "colab": {
          "base_uri": "https://localhost:8080/",
          "height": 35
        },
        "outputId": "1bf03cbe-fd6d-43d3-b55c-20d300034d35"
      },
      "outputs": [
        {
          "output_type": "execute_result",
          "data": {
            "text/plain": [
              "'\\ntuple is immutable, and list is muutable\\n'"
            ],
            "application/vnd.google.colaboratory.intrinsic+json": {
              "type": "string"
            }
          },
          "metadata": {},
          "execution_count": 7
        }
      ],
      "source": [
        "t = (1, 2, 3)\n",
        "list = [1, 2, 3, 4, 5]\n",
        "\n",
        "'''\n",
        "tuple is immutable, and list is muutable\n",
        "'''"
      ]
    },
    {
      "cell_type": "markdown",
      "metadata": {
        "id": "zP-j0HZj85kK"
      },
      "source": [
        "** Create a function that grabs the email website domain from a string in the form: **\n",
        "\n",
        "    user@domain.com\n",
        "    \n",
        "**So for example, passing \"user@domain.com\" would return: domain.com**"
      ]
    },
    {
      "cell_type": "code",
      "execution_count": null,
      "metadata": {
        "collapsed": true,
        "id": "unvEAwjk85kL",
        "colab": {
          "base_uri": "https://localhost:8080/"
        },
        "outputId": "4abcb100-ec98-4329-c97f-5f2c495620f5"
      },
      "outputs": [
        {
          "output_type": "stream",
          "name": "stdout",
          "text": [
            "Please enter your email: >lavanyacse6262@gmail.com\n",
            "Your domain is: gmail.com\n"
          ]
        }
      ],
      "source": [
        "def domainGet(email):\n",
        "    print(\"Your domain is: \" + email.split('@')[-1])\n",
        "\n",
        "email = input(\"Please enter your email: >\")\n",
        "domainGet(email)"
      ]
    },
    {
      "cell_type": "markdown",
      "metadata": {
        "id": "gYydb-y085kM"
      },
      "source": [
        "** Create a basic function that returns True if the word 'dog' is contained in the input string. Don't worry about edge cases like a punctuation being attached to the word dog, but do account for capitalization. **"
      ]
    },
    {
      "cell_type": "code",
      "execution_count": null,
      "metadata": {
        "collapsed": true,
        "id": "Q4ldLGV785kM",
        "colab": {
          "base_uri": "https://localhost:8080/"
        },
        "outputId": "2b4560bf-32f7-412c-defe-e73183af2f91"
      },
      "outputs": [
        {
          "output_type": "stream",
          "name": "stdout",
          "text": [
            "Please key a string: >dog\n",
            "True\n"
          ]
        }
      ],
      "source": [
        "def findDog(st):\n",
        "    if 'dog' in st.lower():\n",
        "        print(\"True\")\n",
        "    else:\n",
        "        print(\"False\")\n",
        "\n",
        "st = input(\"Please key a string: >\")\n",
        "findDog(st)"
      ]
    },
    {
      "cell_type": "markdown",
      "metadata": {
        "id": "AyHQFALC85kO"
      },
      "source": [
        "** Create a function that counts the number of times the word \"dog\" occurs in a string. Again ignore edge cases. **"
      ]
    },
    {
      "cell_type": "code",
      "execution_count": null,
      "metadata": {
        "id": "6hdc169585kO",
        "colab": {
          "base_uri": "https://localhost:8080/"
        },
        "outputId": "58ecd586-1c72-4c83-ac81-8f266a129333"
      },
      "outputs": [
        {
          "output_type": "stream",
          "name": "stdout",
          "text": [
            "Please enter your string: dog\n",
            "1\n"
          ]
        }
      ],
      "source": [
        "\n",
        "string = input(\"Please enter your string: \")\n",
        "\n",
        "def countdogs(string):\n",
        "    count = 0\n",
        "    for word in string.lower().split():\n",
        "        if word == 'dog' or word == 'dogs':\n",
        "            count = count + 1\n",
        "            print(count)\n",
        "\n",
        "countdogs(string)"
      ]
    },
    {
      "cell_type": "markdown",
      "metadata": {
        "id": "3n7jJt4k85kP"
      },
      "source": [
        "### Problem\n",
        "**You are driving a little too fast, and a police officer stops you. Write a function\n",
        "  to return one of 3 possible results: \"No ticket\", \"Small ticket\", or \"Big Ticket\". \n",
        "  If your speed is 60 or less, the result is \"No Ticket\". If speed is between 61 \n",
        "  and 80 inclusive, the result is \"Small Ticket\". If speed is 81 or more, the result is \"Big    Ticket\". Unless it is your birthday (encoded as a boolean value in the parameters of the function) -- on your birthday, your speed can be 5 higher in all \n",
        "  cases. **"
      ]
    },
    {
      "cell_type": "code",
      "execution_count": null,
      "metadata": {
        "collapsed": true,
        "id": "nvXMkvWk85kQ"
      },
      "outputs": [],
      "source": [
        "def caught_speeding(speed, is_birthday):\n",
        "    \n",
        "    if is_birthday:\n",
        "        speeding = speed - 5\n",
        "    else:\n",
        "        speeding = speed\n",
        "    \n",
        "    if speeding > 80:\n",
        "        return 'Big Ticket'\n",
        "    elif speeding > 60:\n",
        "        return 'Small Ticket'\n",
        "    else:\n",
        "        return 'No Ticket'"
      ]
    },
    {
      "cell_type": "code",
      "execution_count": null,
      "metadata": {
        "id": "BU_UZcyk85kS",
        "outputId": "8ff0361c-967c-4018-dc7a-6f61159991ef",
        "colab": {
          "base_uri": "https://localhost:8080/"
        }
      },
      "outputs": [
        {
          "output_type": "stream",
          "name": "stdout",
          "text": [
            "Please enter the speed(km/h)(only number please): \n",
            "\n",
            "> 105\n",
            "Please enter your birthday: (in DD/MM/YYYY format)\n",
            "\n",
            "> 25/07/2002\n",
            "You get a big ticket.\n"
          ]
        }
      ],
      "source": [
        "print(\"Please enter the speed(km/h)(only number please): \\n\")\n",
        "speed = int(input(\"> \"))\n",
        "\n",
        "print(\"Please enter your birthday: (in DD/MM/YYYY format)\\n\")\n",
        "birthday = str(input(\"> \"))\n",
        "\n",
        "def speeding(speed, birthday):\n",
        "    if birthday == '29/08/1989':\n",
        "        s = speed - 5\n",
        "    else:\n",
        "        s = speed\n",
        "\n",
        "    if s <= 60:\n",
        "        print(\"You pass.\")\n",
        "    elif s > 61 and s <= 80:\n",
        "        print(\"You get a small ticket\")\n",
        "    else:\n",
        "        print(\"You get a big ticket.\")\n",
        "\n",
        "speeding(speed, birthday)"
      ]
    },
    {
      "cell_type": "code",
      "execution_count": null,
      "metadata": {
        "id": "p1AGJ7DM85kR",
        "outputId": "ccf1976d-e200-4147-d09d-f077a4b7e893",
        "colab": {
          "base_uri": "https://localhost:8080/"
        }
      },
      "outputs": [
        {
          "output_type": "stream",
          "name": "stdout",
          "text": [
            "Please enter the speed(km/h)(only number please): \n",
            "\n",
            "> 50\n",
            "Please enter your birthday: (in DD/MM/YYYY format)\n",
            "\n",
            "> 25/07/2002\n",
            "You pass.\n"
          ]
        }
      ],
      "source": [
        "print(\"Please enter the speed(km/h)(only number please): \\n\")\n",
        "speed = int(input(\"> \"))\n",
        "\n",
        "print(\"Please enter your birthday: (in DD/MM/YYYY format)\\n\")\n",
        "birthday = str(input(\"> \"))\n",
        "\n",
        "def speeding(speed, birthday):\n",
        "    if birthday == '29/08/1989':\n",
        "        s = speed - 5\n",
        "    else:\n",
        "        s = speed\n",
        "\n",
        "    if s <= 60:\n",
        "        print(\"You pass.\")\n",
        "    elif s > 61 and s <= 80:\n",
        "        print(\"You get a small ticket\")\n",
        "    else:\n",
        "        print(\"You get a big ticket.\")\n",
        "\n",
        "speeding(speed, birthday)"
      ]
    },
    {
      "cell_type": "markdown",
      "source": [
        "Create an employee list with basic salary values(at least 5 values for 5 employees)  and using a for loop retreive each employee salary and calculate total salary expenditure. "
      ],
      "metadata": {
        "id": "Tie4rC7_kAOC"
      }
    },
    {
      "cell_type": "code",
      "source": [],
      "metadata": {
        "id": "R5-CdXSKjacN"
      },
      "execution_count": null,
      "outputs": []
    },
    {
      "cell_type": "markdown",
      "source": [
        "\n",
        "Create two dictionaries in Python:\n",
        "\n",
        "First one to contain fields as Empid,  Empname,  Basicpay\n",
        "\n",
        "Second dictionary to contain fields as DeptName,  DeptId.\n",
        "\n",
        "Combine both dictionaries. "
      ],
      "metadata": {
        "id": "-L1aiFqRkF5s"
      }
    },
    {
      "cell_type": "code",
      "source": [],
      "metadata": {
        "id": "NFdGicd9bWD9"
      },
      "execution_count": null,
      "outputs": []
    }
  ],
  "metadata": {
    "colab": {
      "provenance": []
    },
    "kernelspec": {
      "display_name": "Python 3",
      "language": "python",
      "name": "python3"
    },
    "language_info": {
      "codemirror_mode": {
        "name": "ipython",
        "version": 3
      },
      "file_extension": ".py",
      "mimetype": "text/x-python",
      "name": "python",
      "nbconvert_exporter": "python",
      "pygments_lexer": "ipython3",
      "version": "3.8.5"
    }
  },
  "nbformat": 4,
  "nbformat_minor": 0
}